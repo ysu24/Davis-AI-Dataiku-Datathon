{
  "cells": [
    {
      "cell_type": "markdown",
      "metadata": {},
      "source": [
        "# Cluster BTM Using KMeans"
      ]
    },
    {
      "cell_type": "markdown",
      "metadata": {},
      "source": [
        "### Notebook automatically generated from your model"
      ]
    },
    {
      "cell_type": "markdown",
      "metadata": {},
      "source": [
        "Model KMeans (k=4) (4), trained on 2022-09-24 19:42:08."
      ]
    },
    {
      "cell_type": "markdown",
      "metadata": {},
      "source": [
        "#### Generated on 2022-09-24 23:43:05.098051"
      ]
    },
    {
      "cell_type": "markdown",
      "metadata": {},
      "source": [
        "Clustering\n",
        "This notebook will reproduce the steps for clustering the dataset BTM_data_prepared."
      ]
    },
    {
      "cell_type": "markdown",
      "metadata": {},
      "source": [
        "#### Warning"
      ]
    },
    {
      "cell_type": "markdown",
      "metadata": {},
      "source": [
        "The goal of this notebook is to provide an easily readable and explainable code that reproduces the main steps\n",
        "of training the model. It is not complete: some of the preprocessing done by the DSS visual machine learning is not\n",
        "replicated in this notebook. This notebook will not give the same results and model performance as the DSS visual machine\n",
        "learning model."
      ]
    },
    {
      "cell_type": "markdown",
      "metadata": {},
      "source": [
        "Let's start with importing the required libs :"
      ]
    },
    {
      "cell_type": "code",
      "execution_count": 1,
      "metadata": {},
      "outputs": [],
      "source": [
        "import sys\n",
        "import dataiku\n",
        "import numpy as np\n",
        "import pandas as pd\n",
        "import sklearn as sk\n",
        "import dataiku.core.pandasutils as pdu\n",
        "from dataiku.doctor.preprocessing import PCA\n",
        "from collections import defaultdict, Counter"
      ]
    },
    {
      "cell_type": "markdown",
      "metadata": {},
      "source": [
        "And tune pandas display options:"
      ]
    },
    {
      "cell_type": "code",
      "execution_count": 2,
      "metadata": {},
      "outputs": [],
      "source": [
        "pd.set_option('display.width', 3000)\n",
        "pd.set_option('display.max_rows', 200)\n",
        "pd.set_option('display.max_columns', 200)"
      ]
    },
    {
      "cell_type": "markdown",
      "metadata": {},
      "source": [
        "#### Importing base data"
      ]
    },
    {
      "cell_type": "markdown",
      "metadata": {},
      "source": [
        "The first step is to get our machine learning dataset:"
      ]
    },
    {
      "cell_type": "code",
      "execution_count": 3,
      "metadata": {},
      "outputs": [
        {
          "name": "stdout",
          "output_type": "stream",
          "text": [
            "CPU times: user 23.7 ms, sys: 6.4 ms, total: 30.1 ms\n",
            "Wall time: 71.4 ms\n",
            "Base data has 932 rows and 23 columns\n"
          ]
        },
        {
          "data": {
            "text/html": [
              "\n",
              "            <button style=\"display:none\" \n",
              "            class=\"btn btn-default ipython-export-btn\" \n",
              "            id=\"btn-df-9442a6b7-d9d3-45b6-b11f-bc1e87154a0f\" \n",
              "            onclick=\"_export_df('9442a6b7-d9d3-45b6-b11f-bc1e87154a0f')\">\n",
              "                Export dataframe\n",
              "            </button>\n",
              "            \n",
              "            <script>\n",
              "                \n",
              "                function _check_export_df_possible(dfid,yes_fn,no_fn) {\n",
              "                    console.log('Checking dataframe exportability...')\n",
              "                    if(!IPython || !IPython.notebook || !IPython.notebook.kernel || !IPython.notebook.kernel) {\n",
              "                        console.log('Export is not possible (IPython kernel is not available)')\n",
              "                        if(no_fn) {\n",
              "                            no_fn();\n",
              "                        }\n",
              "                    } else {\n",
              "                        var pythonCode = 'from dataiku.notebook.export import IPythonExporter;IPythonExporter._check_export_stdout(\"'+dfid+'\")';\n",
              "                        IPython.notebook.kernel.execute(pythonCode,{iopub: {output: function(resp) {\n",
              "                            console.info(\"Exportability response\", resp);\n",
              "                            var size = /^([0-9]+)x([0-9]+)$/.exec(resp.content.data || resp.content.text)\n",
              "                            if(!size) {\n",
              "                                console.log('Export is not possible (dataframe is not in-memory anymore)')\n",
              "                                if(no_fn) {\n",
              "                                    no_fn();\n",
              "                                }\n",
              "                            } else {\n",
              "                                console.log('Export is possible')\n",
              "                                if(yes_fn) {\n",
              "                                    yes_fn(1*size[1],1*size[2]);\n",
              "                                }\n",
              "                            }\n",
              "                        }}});\n",
              "                    }\n",
              "                }\n",
              "            \n",
              "                function _export_df(dfid) {\n",
              "                    \n",
              "                    var btn = $('#btn-df-'+dfid);\n",
              "                    var btns = $('.ipython-export-btn');\n",
              "                    \n",
              "                    _check_export_df_possible(dfid,function() {\n",
              "                        \n",
              "                        window.parent.openExportModalFromIPython('Pandas dataframe',function(data) {\n",
              "                            btns.prop('disabled',true);\n",
              "                            btn.text('Exporting...');\n",
              "                            var command = 'from dataiku.notebook.export import IPythonExporter;IPythonExporter._run_export(\"'+dfid+'\",\"'+data.exportId+'\")';\n",
              "                            var callback = {iopub:{output: function(resp) {\n",
              "                                console.info(\"CB resp:\", resp);\n",
              "                                _check_export_df_possible(dfid,function(rows, cols) {\n",
              "                                    $('#btn-df-'+dfid)\n",
              "                                        .css('display','inline-block')\n",
              "                                        .text('Export this dataframe ('+rows+' rows, '+cols+' cols)')\n",
              "                                        .prop('disabled',false);\n",
              "                                },function() {\n",
              "                                    $('#btn-df-'+dfid).css('display','none');\n",
              "                                });\n",
              "                            }}};\n",
              "                            IPython.notebook.kernel.execute(command,callback,{silent:false}); // yes, silent now defaults to true. figures.\n",
              "                        });\n",
              "                    \n",
              "                    }, function(){\n",
              "                            alert('Unable to export : the Dataframe object is not loaded in memory');\n",
              "                            btn.css('display','none');\n",
              "                    });\n",
              "                    \n",
              "                }\n",
              "                \n",
              "                (function(dfid) {\n",
              "                \n",
              "                    var retryCount = 10;\n",
              "                \n",
              "                    function is_valid_websock(s) {\n",
              "                        return s && s.readyState==1;\n",
              "                    }\n",
              "                \n",
              "                    function check_conn() {\n",
              "                        \n",
              "                        if(!IPython || !IPython.notebook) {\n",
              "                            // Don't even try to go further\n",
              "                            return;\n",
              "                        }\n",
              "                        \n",
              "                        // Check if IPython is ready\n",
              "                        console.info(\"Checking conn ...\")\n",
              "                        if(IPython.notebook.kernel\n",
              "                        && IPython.notebook.kernel\n",
              "                        && is_valid_websock(IPython.notebook.kernel.ws)\n",
              "                        ) {\n",
              "                            \n",
              "                            _check_export_df_possible(dfid,function(rows, cols) {\n",
              "                                $('#btn-df-'+dfid).css('display','inline-block');\n",
              "                                $('#btn-df-'+dfid).text('Export this dataframe ('+rows+' rows, '+cols+' cols)');\n",
              "                            });\n",
              "                            \n",
              "                        } else {\n",
              "                            console.info(\"Conditions are not ok\", IPython.notebook.kernel);\n",
              "                            \n",
              "                            // Retry later\n",
              "                            \n",
              "                            if(retryCount>0) {\n",
              "                                setTimeout(check_conn,500);\n",
              "                                retryCount--;\n",
              "                            }\n",
              "                            \n",
              "                        }\n",
              "                    };\n",
              "                    \n",
              "                    setTimeout(check_conn,100);\n",
              "                    \n",
              "                })(\"9442a6b7-d9d3-45b6-b11f-bc1e87154a0f\");\n",
              "                \n",
              "            </script>\n",
              "            \n",
              "        <div>\n",
              "<style scoped>\n",
              "    .dataframe tbody tr th:only-of-type {\n",
              "        vertical-align: middle;\n",
              "    }\n",
              "\n",
              "    .dataframe tbody tr th {\n",
              "        vertical-align: top;\n",
              "    }\n",
              "\n",
              "    .dataframe thead th {\n",
              "        text-align: right;\n",
              "    }\n",
              "</style>\n",
              "<table border=\"1\" class=\"dataframe\">\n",
              "  <thead>\n",
              "    <tr style=\"text-align: right;\">\n",
              "      <th></th>\n",
              "      <th>Tree ID</th>\n",
              "      <th>Longitude</th>\n",
              "      <th>Latitude</th>\n",
              "      <th>Common Name</th>\n",
              "      <th>Condition Class / Infestation Pattern</th>\n",
              "      <th>List of Trees on  residential property</th>\n",
              "      <th>BTM positive trees self reported  on residential property</th>\n",
              "      <th>BTM positive Tree Species on property</th>\n",
              "      <th>Dbh 1. inches</th>\n",
              "      <th>Dbh 2</th>\n",
              "      <th>Dbh 3</th>\n",
              "      <th>Dbh 4</th>\n",
              "      <th>Dbh 5</th>\n",
              "      <th>Dbh 6</th>\n",
              "      <th>Number Observed BTM Nests</th>\n",
              "      <th>Entry Source</th>\n",
              "      <th>BTM (Y/N)</th>\n",
              "      <th>Interest in Help</th>\n",
              "      <th>Tree Type</th>\n",
              "      <th>Distance to Water</th>\n",
              "      <th>Proposed Treatment Type (Insert/Injection; Manual Removal; Organic Spray)</th>\n",
              "      <th>Treatm.  Priority (1: High, 2: Med, 3: Low)</th>\n",
              "      <th>Geopoint</th>\n",
              "    </tr>\n",
              "  </thead>\n",
              "  <tbody>\n",
              "    <tr>\n",
              "      <th>0</th>\n",
              "      <td>130.0</td>\n",
              "      <td>-69.633445</td>\n",
              "      <td>44.551271</td>\n",
              "      <td>Crabapple</td>\n",
              "      <td>Good</td>\n",
              "      <td>NaN</td>\n",
              "      <td>NaN</td>\n",
              "      <td>1</td>\n",
              "      <td>10</td>\n",
              "      <td>0</td>\n",
              "      <td>0</td>\n",
              "      <td>0</td>\n",
              "      <td>0</td>\n",
              "      <td>0</td>\n",
              "      <td>75</td>\n",
              "      <td>Bartlett Invent Feb 2022</td>\n",
              "      <td>Y</td>\n",
              "      <td>NaN</td>\n",
              "      <td>Fruiting/Flowering</td>\n",
              "      <td>&gt;250</td>\n",
              "      <td>Organic Spray</td>\n",
              "      <td>1</td>\n",
              "      <td>POINT(-69.633445106 44.551270843)</td>\n",
              "    </tr>\n",
              "    <tr>\n",
              "      <th>1</th>\n",
              "      <td>101.0</td>\n",
              "      <td>-69.629734</td>\n",
              "      <td>44.549535</td>\n",
              "      <td>Crabapple</td>\n",
              "      <td>Fair</td>\n",
              "      <td>NaN</td>\n",
              "      <td>NaN</td>\n",
              "      <td>1</td>\n",
              "      <td>21</td>\n",
              "      <td>0</td>\n",
              "      <td>0</td>\n",
              "      <td>0</td>\n",
              "      <td>0</td>\n",
              "      <td>0</td>\n",
              "      <td>50</td>\n",
              "      <td>Bartlett Invent Feb 2022</td>\n",
              "      <td>Y</td>\n",
              "      <td>NaN</td>\n",
              "      <td>Fruiting/Flowering</td>\n",
              "      <td>&gt;250</td>\n",
              "      <td>Organic Spray</td>\n",
              "      <td>1</td>\n",
              "      <td>POINT(-69.629734075 44.549535104)</td>\n",
              "    </tr>\n",
              "    <tr>\n",
              "      <th>2</th>\n",
              "      <td>59.0</td>\n",
              "      <td>-69.627131</td>\n",
              "      <td>44.551959</td>\n",
              "      <td>Elm-American</td>\n",
              "      <td>Good</td>\n",
              "      <td>NaN</td>\n",
              "      <td>NaN</td>\n",
              "      <td>1</td>\n",
              "      <td>4</td>\n",
              "      <td>0</td>\n",
              "      <td>0</td>\n",
              "      <td>0</td>\n",
              "      <td>0</td>\n",
              "      <td>0</td>\n",
              "      <td>50</td>\n",
              "      <td>Bartlett Invent Feb 2022</td>\n",
              "      <td>Y</td>\n",
              "      <td>NaN</td>\n",
              "      <td>Ornamental</td>\n",
              "      <td>&lt;25</td>\n",
              "      <td>Insert/Injection</td>\n",
              "      <td>1</td>\n",
              "      <td>POINT(-69.627130501 44.551959107)</td>\n",
              "    </tr>\n",
              "    <tr>\n",
              "      <th>3</th>\n",
              "      <td>105.0</td>\n",
              "      <td>-69.629361</td>\n",
              "      <td>44.549576</td>\n",
              "      <td>Elm-American</td>\n",
              "      <td>Good</td>\n",
              "      <td>NaN</td>\n",
              "      <td>NaN</td>\n",
              "      <td>1</td>\n",
              "      <td>42</td>\n",
              "      <td>0</td>\n",
              "      <td>0</td>\n",
              "      <td>0</td>\n",
              "      <td>0</td>\n",
              "      <td>0</td>\n",
              "      <td>50</td>\n",
              "      <td>Bartlett Invent Feb 2022</td>\n",
              "      <td>Y</td>\n",
              "      <td>NaN</td>\n",
              "      <td>Ornamental</td>\n",
              "      <td>&gt;250</td>\n",
              "      <td>Insert/Injection</td>\n",
              "      <td>1</td>\n",
              "      <td>POINT(-69.629360613 44.549576086)</td>\n",
              "    </tr>\n",
              "    <tr>\n",
              "      <th>4</th>\n",
              "      <td>353.0</td>\n",
              "      <td>-69.662301</td>\n",
              "      <td>44.528730</td>\n",
              "      <td>Oak-Northern Red</td>\n",
              "      <td>Good</td>\n",
              "      <td>NaN</td>\n",
              "      <td>NaN</td>\n",
              "      <td>1</td>\n",
              "      <td>24</td>\n",
              "      <td>0</td>\n",
              "      <td>0</td>\n",
              "      <td>0</td>\n",
              "      <td>0</td>\n",
              "      <td>0</td>\n",
              "      <td>50</td>\n",
              "      <td>Bartlett Invent Feb 2022</td>\n",
              "      <td>Y</td>\n",
              "      <td>NaN</td>\n",
              "      <td>Ornamental</td>\n",
              "      <td>&gt;250</td>\n",
              "      <td>Insert/Injection</td>\n",
              "      <td>1</td>\n",
              "      <td>POINT(-69.662300718 44.528730089)</td>\n",
              "    </tr>\n",
              "  </tbody>\n",
              "</table>\n",
              "</div>"
            ],
            "text/plain": [
              "   Tree ID  Longitude   Latitude       Common Name Condition Class / Infestation Pattern List of Trees on  residential property BTM positive trees self reported  on residential property  BTM positive Tree Species on property  Dbh 1. inches  Dbh 2  Dbh 3  Dbh 4  Dbh 5  Dbh 6  Number Observed BTM Nests              Entry Source BTM (Y/N) Interest in Help           Tree Type Distance to Water Proposed Treatment Type (Insert/Injection; Manual Removal; Organic Spray)  Treatm.  Priority (1: High, 2: Med, 3: Low)                           Geopoint\n",
              "0    130.0 -69.633445  44.551271         Crabapple                                  Good                                    NaN                                                NaN                                             1             10      0      0      0      0      0                         75  Bartlett Invent Feb 2022         Y              NaN  Fruiting/Flowering              >250                                      Organic Spray                                                                   1  POINT(-69.633445106 44.551270843)\n",
              "1    101.0 -69.629734  44.549535         Crabapple                                  Fair                                    NaN                                                NaN                                             1             21      0      0      0      0      0                         50  Bartlett Invent Feb 2022         Y              NaN  Fruiting/Flowering              >250                                      Organic Spray                                                                   1  POINT(-69.629734075 44.549535104)\n",
              "2     59.0 -69.627131  44.551959      Elm-American                                  Good                                    NaN                                                NaN                                             1              4      0      0      0      0      0                         50  Bartlett Invent Feb 2022         Y              NaN          Ornamental               <25                                   Insert/Injection                                                                   1  POINT(-69.627130501 44.551959107)\n",
              "3    105.0 -69.629361  44.549576      Elm-American                                  Good                                    NaN                                                NaN                                             1             42      0      0      0      0      0                         50  Bartlett Invent Feb 2022         Y              NaN          Ornamental              >250                                   Insert/Injection                                                                   1  POINT(-69.629360613 44.549576086)\n",
              "4    353.0 -69.662301  44.528730  Oak-Northern Red                                  Good                                    NaN                                                NaN                                             1             24      0      0      0      0      0                         50  Bartlett Invent Feb 2022         Y              NaN          Ornamental              >250                                   Insert/Injection                                                                   1  POINT(-69.662300718 44.528730089)"
            ]
          },
          "execution_count": 3,
          "metadata": {},
          "output_type": "execute_result"
        }
      ],
      "source": [
        "# We apply the preparation that you defined. You should not modify this.\n",
        "preparation_steps = []\n",
        "preparation_output_schema = {'columns': [{'name': 'Tree ID', 'type': 'string'}, {'name': 'Longitude', 'type': 'double'}, {'name': 'Latitude', 'type': 'double'}, {'name': 'Common Name', 'type': 'string'}, {'name': 'Condition Class / Infestation Pattern', 'type': 'string'}, {'name': 'List of Trees on  residential property', 'type': 'string'}, {'name': 'BTM positive trees self reported  on residential property', 'type': 'string'}, {'name': 'BTM positive Tree Species on property', 'type': 'bigint'}, {'name': 'Dbh 1. inches', 'type': 'bigint'}, {'name': 'Dbh 2', 'type': 'bigint'}, {'name': 'Dbh 3', 'type': 'bigint'}, {'name': 'Dbh 4', 'type': 'bigint'}, {'name': 'Dbh 5', 'type': 'bigint'}, {'name': 'Dbh 6', 'type': 'bigint'}, {'name': 'Number Observed BTM Nests', 'type': 'bigint'}, {'name': 'Entry Source', 'type': 'string'}, {'name': 'BTM (Y/N)', 'type': 'boolean'}, {'name': 'Interest in Help', 'type': 'string'}, {'name': 'Tree Type', 'type': 'string'}, {'name': 'Distance to Water', 'type': 'string'}, {'name': 'Proposed Treatment Type (Insert/Injection; Manual Removal; Organic Spray)', 'type': 'string'}, {'name': 'Treatm.  Priority (1: High, 2: Med, 3: Low)', 'type': 'bigint'}, {'name': 'Geopoint', 'type': 'string'}], 'userModified': False}\n",
        "\n",
        "ml_dataset_handle = dataiku.Dataset('BTM_data_prepared')\n",
        "ml_dataset_handle.set_preparation_steps(preparation_steps, preparation_output_schema)\n",
        "%time ml_dataset = ml_dataset_handle.get_dataframe(limit = 100000)\n",
        "\n",
        "print ('Base data has %i rows and %i columns' % (ml_dataset.shape[0], ml_dataset.shape[1]))\n",
        "# Five first records\",\n",
        "ml_dataset.head(5)"
      ]
    },
    {
      "cell_type": "markdown",
      "metadata": {},
      "source": [
        "#### Initial data management"
      ]
    },
    {
      "cell_type": "markdown",
      "metadata": {},
      "source": [
        "The preprocessing aims at making the dataset compatible with modeling.\n",
        "At the end of this step, we will have a matrix of float numbers, with no missing values.\n",
        "We'll use the features and the preprocessing steps defined in Models.\n",
        "\n",
        "Let's only keep selected features"
      ]
    },
    {
      "cell_type": "code",
      "execution_count": 4,
      "metadata": {},
      "outputs": [],
      "source": [
        "ml_dataset = ml_dataset[['Condition Class / Infestation Pattern', 'Distance to Water']]"
      ]
    },
    {
      "cell_type": "markdown",
      "metadata": {},
      "source": [
        "Let's first coerce categorical columns into unicode, numerical features into floats."
      ]
    },
    {
      "cell_type": "code",
      "execution_count": 5,
      "metadata": {},
      "outputs": [],
      "source": [
        "# astype('unicode') does not work as expected\n",
        "\n",
        "def coerce_to_unicode(x):\n",
        "    if sys.version_info < (3, 0):\n",
        "        if isinstance(x, str):\n",
        "            return unicode(x,'utf-8')\n",
        "        else:\n",
        "            return unicode(x)\n",
        "    else:\n",
        "        return str(x)\n",
        "\n",
        "\n",
        "categorical_features = ['Condition Class / Infestation Pattern', 'Distance to Water']\n",
        "numerical_features = []\n",
        "text_features = []\n",
        "from dataiku.doctor.utils import datetime_to_epoch\n",
        "for feature in categorical_features:\n",
        "    ml_dataset[feature] = ml_dataset[feature].apply(coerce_to_unicode)\n",
        "for feature in text_features:\n",
        "    ml_dataset[feature] = ml_dataset[feature].apply(coerce_to_unicode)\n",
        "for feature in numerical_features:\n",
        "    if ml_dataset[feature].dtype == np.dtype('M8[ns]') or (hasattr(ml_dataset[feature].dtype, 'base') and ml_dataset[feature].dtype.base == np.dtype('M8[ns]')):\n",
        "        ml_dataset[feature] = datetime_to_epoch(ml_dataset[feature])\n",
        "    else:\n",
        "        ml_dataset[feature] = ml_dataset[feature].astype('double')"
      ]
    },
    {
      "cell_type": "markdown",
      "metadata": {},
      "source": [
        "Let's copy our dataset to keep it for eventual profiling at the end."
      ]
    },
    {
      "cell_type": "code",
      "execution_count": 6,
      "metadata": {},
      "outputs": [],
      "source": [
        "# train dataset will be the one on which we will apply ml technics\n",
        "train = ml_dataset.copy()"
      ]
    },
    {
      "cell_type": "markdown",
      "metadata": {},
      "source": [
        "#### Features preprocessing"
      ]
    },
    {
      "cell_type": "markdown",
      "metadata": {},
      "source": [
        "The first thing to do at the features level is to handle the missing values.\n",
        "Let's reuse the settings defined in the model"
      ]
    },
    {
      "cell_type": "code",
      "execution_count": 7,
      "metadata": {},
      "outputs": [],
      "source": [
        "drop_rows_when_missing = []\n",
        "impute_when_missing = []\n",
        "\n",
        "# Features for which we drop rows with missing values\"\n",
        "for feature in drop_rows_when_missing:\n",
        "    train = train[train[feature].notnull()]\n",
        "    \n",
        "    print ('Dropped missing records in %s' % feature)\n",
        "\n",
        "# Features for which we impute missing values\"\n",
        "for feature in impute_when_missing:\n",
        "    if feature['impute_with'] == 'MEAN':\n",
        "        v = train[feature['feature']].mean()\n",
        "    elif feature['impute_with'] == 'MEDIAN':\n",
        "        v = train[feature['feature']].median()\n",
        "    elif feature['impute_with'] == 'CREATE_CATEGORY':\n",
        "        v = 'NULL_CATEGORY'\n",
        "    elif feature['impute_with'] == 'MODE':\n",
        "        v = train[feature['feature']].value_counts().index[0]\n",
        "    elif feature['impute_with'] == 'CONSTANT':\n",
        "        v = feature['value']\n",
        "    train[feature['feature']] = train[feature['feature']].fillna(v)\n",
        "    \n",
        "    print ('Imputed missing values in feature %s with value %s' % (feature['feature'], coerce_to_unicode(v)))"
      ]
    },
    {
      "cell_type": "markdown",
      "metadata": {},
      "source": [
        "We can now handle the categorical features (still using the settings defined in Models):"
      ]
    },
    {
      "cell_type": "markdown",
      "metadata": {},
      "source": [
        "Let's dummy-encode the following features.\n",
        "A binary column is created for each of the 100 most frequent values."
      ]
    },
    {
      "cell_type": "code",
      "execution_count": 8,
      "metadata": {},
      "outputs": [
        {
          "name": "stdout",
          "output_type": "stream",
          "text": [
            "Dummy-encoded feature Condition Class / Infestation Pattern\n",
            "Dummy-encoded feature Distance to Water\n"
          ]
        }
      ],
      "source": [
        "LIMIT_DUMMIES = 100\n",
        "\n",
        "categorical_to_dummy_encode = ['Condition Class / Infestation Pattern', 'Distance to Water']\n",
        "\n",
        "# Only keep the top 100 values\n",
        "def select_dummy_values(train, features):\n",
        "    dummy_values = {}\n",
        "    for feature in categorical_to_dummy_encode:\n",
        "        values = [\n",
        "            value\n",
        "            for (value, _) in Counter(train[feature]).most_common(LIMIT_DUMMIES)\n",
        "        ]\n",
        "        dummy_values[feature] = values\n",
        "    return dummy_values\n",
        "\n",
        "DUMMY_VALUES = select_dummy_values(train, categorical_to_dummy_encode)\n",
        "\n",
        "def dummy_encode_dataframe(df):\n",
        "    for (feature, dummy_values) in DUMMY_VALUES.items():\n",
        "        for dummy_value in dummy_values:\n",
        "            dummy_name = u'%s_value_%s' % (feature, coerce_to_unicode(dummy_value))\n",
        "            df[dummy_name] = (df[feature] == dummy_value).astype(float)\n",
        "        del df[feature]\n",
        "        print ('Dummy-encoded feature %s' % feature)\n",
        "\n",
        "dummy_encode_dataframe(train)\n",
        "\n",
        "\n",
        "\n",
        "\n",
        "\n",
        "\n",
        "\n",
        "\n",
        "\n",
        "\n",
        "\n",
        "\n",
        "# Rescaling is not required"
      ]
    },
    {
      "cell_type": "markdown",
      "metadata": {},
      "source": [
        "Removing outliers"
      ]
    },
    {
      "cell_type": "code",
      "execution_count": 9,
      "metadata": {},
      "outputs": [
        {
          "name": "stderr",
          "output_type": "stream",
          "text": [
            "DEBUG:dku.ml.preprocessing:Outliers detection: fitting PCA\n",
            "DEBUG:dku.ml.preprocessing:Outliers detection: performing PCA\n",
            "DEBUG:dku.ml.preprocessing:Outliers detection: performing cubic-root kmeans on df (932, 7)\n",
            "DEBUG:dku.ml.preprocessing:Outliers detection: selecting mini-clusters\n",
            "DEBUG:dku.ml.preprocessing:Outliers detection: done\n"
          ]
        },
        {
          "name": "stdout",
          "output_type": "stream",
          "text": [
            "3 outliers found\n"
          ]
        }
      ],
      "source": [
        "# Remove outliers from train set\n",
        "from dataiku.doctor.preprocessing.dataframe_preprocessing import detect_outliers\n",
        "\n",
        "outliers = detect_outliers(train, 0.9, 9, 0.01)\n",
        "train = train[~outliers]\n",
        "\n",
        "print (\"%s outliers found\" % (outliers.sum()))"
      ]
    },
    {
      "cell_type": "markdown",
      "metadata": {},
      "source": [
        "#### Modeling"
      ]
    },
    {
      "cell_type": "code",
      "execution_count": 10,
      "metadata": {},
      "outputs": [],
      "source": [
        "from sklearn.cluster import KMeans\n",
        "clustering_model = KMeans(n_clusters=4)"
      ]
    },
    {
      "cell_type": "markdown",
      "metadata": {},
      "source": [
        "We can finally cluster our dataset!"
      ]
    },
    {
      "cell_type": "code",
      "execution_count": 11,
      "metadata": {},
      "outputs": [
        {
          "name": "stdout",
          "output_type": "stream",
          "text": [
            "CPU times: user 887 ms, sys: 903 ms, total: 1.79 s\n",
            "Wall time: 60.7 ms\n"
          ]
        }
      ],
      "source": [
        "%time clusters = clustering_model.fit_predict(train)"
      ]
    },
    {
      "cell_type": "markdown",
      "metadata": {},
      "source": [
        "Build up our result dataset"
      ]
    },
    {
      "cell_type": "markdown",
      "metadata": {},
      "source": [
        "#### Results"
      ]
    },
    {
      "cell_type": "markdown",
      "metadata": {},
      "source": [
        "Inertia"
      ]
    },
    {
      "cell_type": "code",
      "execution_count": 12,
      "metadata": {},
      "outputs": [
        {
          "name": "stdout",
          "output_type": "stream",
          "text": [
            "236.39540962182468\n"
          ]
        }
      ],
      "source": [
        "print (clustering_model.inertia_)"
      ]
    },
    {
      "cell_type": "markdown",
      "metadata": {},
      "source": [
        "Silhouette"
      ]
    },
    {
      "cell_type": "code",
      "execution_count": 13,
      "metadata": {},
      "outputs": [
        {
          "name": "stdout",
          "output_type": "stream",
          "text": [
            "Silhouette score : 0.7805756911332342\n"
          ]
        }
      ],
      "source": [
        "from sklearn.metrics import silhouette_score\n",
        "silhouette = silhouette_score(train.values, clusters, metric='euclidean', sample_size=2000)\n",
        "print (\"Silhouette score :\", silhouette)"
      ]
    },
    {
      "cell_type": "markdown",
      "metadata": {},
      "source": [
        "Join our original dataset with the cluster labels we found."
      ]
    },
    {
      "cell_type": "code",
      "execution_count": 14,
      "metadata": {},
      "outputs": [],
      "source": [
        "final = train.join(pd.Series(clusters, index=train.index, name='cluster'))\n",
        "final['cluster'] = final['cluster'].map(lambda cluster_id: 'cluster' + str(cluster_id))"
      ]
    },
    {
      "cell_type": "markdown",
      "metadata": {},
      "source": [
        "Compute the cluster sizes"
      ]
    },
    {
      "cell_type": "code",
      "execution_count": 15,
      "metadata": {},
      "outputs": [
        {
          "data": {
            "text/html": [
              "\n",
              "            <button style=\"display:none\" \n",
              "            class=\"btn btn-default ipython-export-btn\" \n",
              "            id=\"btn-df-c7ebe03a-81fe-479a-8b6d-382089275cb7\" \n",
              "            onclick=\"_export_df('c7ebe03a-81fe-479a-8b6d-382089275cb7')\">\n",
              "                Export dataframe\n",
              "            </button>\n",
              "            \n",
              "            <script>\n",
              "                \n",
              "                function _check_export_df_possible(dfid,yes_fn,no_fn) {\n",
              "                    console.log('Checking dataframe exportability...')\n",
              "                    if(!IPython || !IPython.notebook || !IPython.notebook.kernel || !IPython.notebook.kernel) {\n",
              "                        console.log('Export is not possible (IPython kernel is not available)')\n",
              "                        if(no_fn) {\n",
              "                            no_fn();\n",
              "                        }\n",
              "                    } else {\n",
              "                        var pythonCode = 'from dataiku.notebook.export import IPythonExporter;IPythonExporter._check_export_stdout(\"'+dfid+'\")';\n",
              "                        IPython.notebook.kernel.execute(pythonCode,{iopub: {output: function(resp) {\n",
              "                            console.info(\"Exportability response\", resp);\n",
              "                            var size = /^([0-9]+)x([0-9]+)$/.exec(resp.content.data || resp.content.text)\n",
              "                            if(!size) {\n",
              "                                console.log('Export is not possible (dataframe is not in-memory anymore)')\n",
              "                                if(no_fn) {\n",
              "                                    no_fn();\n",
              "                                }\n",
              "                            } else {\n",
              "                                console.log('Export is possible')\n",
              "                                if(yes_fn) {\n",
              "                                    yes_fn(1*size[1],1*size[2]);\n",
              "                                }\n",
              "                            }\n",
              "                        }}});\n",
              "                    }\n",
              "                }\n",
              "            \n",
              "                function _export_df(dfid) {\n",
              "                    \n",
              "                    var btn = $('#btn-df-'+dfid);\n",
              "                    var btns = $('.ipython-export-btn');\n",
              "                    \n",
              "                    _check_export_df_possible(dfid,function() {\n",
              "                        \n",
              "                        window.parent.openExportModalFromIPython('Pandas dataframe',function(data) {\n",
              "                            btns.prop('disabled',true);\n",
              "                            btn.text('Exporting...');\n",
              "                            var command = 'from dataiku.notebook.export import IPythonExporter;IPythonExporter._run_export(\"'+dfid+'\",\"'+data.exportId+'\")';\n",
              "                            var callback = {iopub:{output: function(resp) {\n",
              "                                console.info(\"CB resp:\", resp);\n",
              "                                _check_export_df_possible(dfid,function(rows, cols) {\n",
              "                                    $('#btn-df-'+dfid)\n",
              "                                        .css('display','inline-block')\n",
              "                                        .text('Export this dataframe ('+rows+' rows, '+cols+' cols)')\n",
              "                                        .prop('disabled',false);\n",
              "                                },function() {\n",
              "                                    $('#btn-df-'+dfid).css('display','none');\n",
              "                                });\n",
              "                            }}};\n",
              "                            IPython.notebook.kernel.execute(command,callback,{silent:false}); // yes, silent now defaults to true. figures.\n",
              "                        });\n",
              "                    \n",
              "                    }, function(){\n",
              "                            alert('Unable to export : the Dataframe object is not loaded in memory');\n",
              "                            btn.css('display','none');\n",
              "                    });\n",
              "                    \n",
              "                }\n",
              "                \n",
              "                (function(dfid) {\n",
              "                \n",
              "                    var retryCount = 10;\n",
              "                \n",
              "                    function is_valid_websock(s) {\n",
              "                        return s && s.readyState==1;\n",
              "                    }\n",
              "                \n",
              "                    function check_conn() {\n",
              "                        \n",
              "                        if(!IPython || !IPython.notebook) {\n",
              "                            // Don't even try to go further\n",
              "                            return;\n",
              "                        }\n",
              "                        \n",
              "                        // Check if IPython is ready\n",
              "                        console.info(\"Checking conn ...\")\n",
              "                        if(IPython.notebook.kernel\n",
              "                        && IPython.notebook.kernel\n",
              "                        && is_valid_websock(IPython.notebook.kernel.ws)\n",
              "                        ) {\n",
              "                            \n",
              "                            _check_export_df_possible(dfid,function(rows, cols) {\n",
              "                                $('#btn-df-'+dfid).css('display','inline-block');\n",
              "                                $('#btn-df-'+dfid).text('Export this dataframe ('+rows+' rows, '+cols+' cols)');\n",
              "                            });\n",
              "                            \n",
              "                        } else {\n",
              "                            console.info(\"Conditions are not ok\", IPython.notebook.kernel);\n",
              "                            \n",
              "                            // Retry later\n",
              "                            \n",
              "                            if(retryCount>0) {\n",
              "                                setTimeout(check_conn,500);\n",
              "                                retryCount--;\n",
              "                            }\n",
              "                            \n",
              "                        }\n",
              "                    };\n",
              "                    \n",
              "                    setTimeout(check_conn,100);\n",
              "                    \n",
              "                })(\"c7ebe03a-81fe-479a-8b6d-382089275cb7\");\n",
              "                \n",
              "            </script>\n",
              "            \n",
              "        <div>\n",
              "<style scoped>\n",
              "    .dataframe tbody tr th:only-of-type {\n",
              "        vertical-align: middle;\n",
              "    }\n",
              "\n",
              "    .dataframe tbody tr th {\n",
              "        vertical-align: top;\n",
              "    }\n",
              "\n",
              "    .dataframe thead th {\n",
              "        text-align: right;\n",
              "    }\n",
              "</style>\n",
              "<table border=\"1\" class=\"dataframe\">\n",
              "  <thead>\n",
              "    <tr style=\"text-align: right;\">\n",
              "      <th></th>\n",
              "      <th>size</th>\n",
              "    </tr>\n",
              "  </thead>\n",
              "  <tbody>\n",
              "    <tr>\n",
              "      <th>cluster1</th>\n",
              "      <td>330</td>\n",
              "    </tr>\n",
              "    <tr>\n",
              "      <th>cluster3</th>\n",
              "      <td>300</td>\n",
              "    </tr>\n",
              "    <tr>\n",
              "      <th>cluster0</th>\n",
              "      <td>159</td>\n",
              "    </tr>\n",
              "    <tr>\n",
              "      <th>cluster2</th>\n",
              "      <td>140</td>\n",
              "    </tr>\n",
              "  </tbody>\n",
              "</table>\n",
              "</div>"
            ],
            "text/plain": [
              "          size\n",
              "cluster1   330\n",
              "cluster3   300\n",
              "cluster0   159\n",
              "cluster2   140"
            ]
          },
          "execution_count": 15,
          "metadata": {},
          "output_type": "execute_result"
        }
      ],
      "source": [
        "size = pd.DataFrame({'size': final['cluster'].value_counts()})\n",
        "size.head()"
      ]
    },
    {
      "cell_type": "markdown",
      "metadata": {},
      "source": [
        "That's it. It's now up to you to tune your preprocessing, your algo, and your analysis !\n"
      ]
    }
  ],
  "metadata": {
    "hide_input": false,
    "kernelspec": {
      "display_name": "Python 3.10.7 64-bit",
      "language": "python",
      "name": "python3"
    },
    "language_info": {
      "codemirror_mode": {
        "name": "ipython",
        "version": 3
      },
      "file_extension": ".py",
      "mimetype": "text/x-python",
      "name": "python",
      "nbconvert_exporter": "python",
      "pygments_lexer": "ipython3",
      "version": "3.10.7"
    },
    "modifiedBy": "user9",
    "name": "Clustering BTM_data_prepared",
    "vscode": {
      "interpreter": {
        "hash": "aee8b7b246df8f9039afb4144a1f6fd8d2ca17a180786b69acc140d282b71a49"
      }
    }
  },
  "nbformat": 4,
  "nbformat_minor": 1
}
