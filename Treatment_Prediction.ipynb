{
  "cells": [
    {
      "cell_type": "markdown",
      "metadata": {},
      "source": [
        "# Predicting Proposed Treatment Type Using Logistic Regression"
      ]
    },
    {
      "cell_type": "markdown",
      "metadata": {},
      "source": [
        "### Notebook automatically generated from your model"
      ]
    },
    {
      "cell_type": "markdown",
      "metadata": {},
      "source": [
        "Model Logistic Regression (Prediction), trained on 2022-09-24 14:16:24."
      ]
    },
    {
      "cell_type": "markdown",
      "metadata": {},
      "source": [
        "#### Generated on 2022-09-24 23:30:51.997235"
      ]
    },
    {
      "cell_type": "markdown",
      "metadata": {},
      "source": [
        "prediction\n",
        "This notebook will reproduce the steps for a MULTICLASS on  BTM_data_prepared.\n",
        "The main objective is to predict the variable Proposed Treatment Type (Insert/Injection; Manual Removal; Organic Spray)"
      ]
    },
    {
      "cell_type": "markdown",
      "metadata": {},
      "source": [
        "#### Warning"
      ]
    },
    {
      "cell_type": "markdown",
      "metadata": {},
      "source": [
        "The goal of this notebook is to provide an easily readable and explainable code that reproduces the main steps\n",
        "of training the model. It is not complete: some of the preprocessing done by the DSS visual machine learning is not\n",
        "replicated in this notebook. This notebook will not give the same results and model performance as the DSS visual machine\n",
        "learning model."
      ]
    },
    {
      "cell_type": "markdown",
      "metadata": {},
      "source": [
        "Let's start with importing the required libs :"
      ]
    },
    {
      "cell_type": "code",
      "execution_count": 1,
      "metadata": {},
      "outputs": [],
      "source": [
        "import sys\n",
        "import dataiku\n",
        "import numpy as np\n",
        "import pandas as pd\n",
        "import sklearn as sk\n",
        "import dataiku.core.pandasutils as pdu\n",
        "from dataiku.doctor.preprocessing import PCA\n",
        "from collections import defaultdict, Counter"
      ]
    },
    {
      "cell_type": "markdown",
      "metadata": {},
      "source": [
        "And tune pandas display options:"
      ]
    },
    {
      "cell_type": "code",
      "execution_count": 2,
      "metadata": {},
      "outputs": [],
      "source": [
        "pd.set_option('display.width', 3000)\n",
        "pd.set_option('display.max_rows', 200)\n",
        "pd.set_option('display.max_columns', 200)"
      ]
    },
    {
      "cell_type": "markdown",
      "metadata": {},
      "source": [
        "#### Importing base data"
      ]
    },
    {
      "cell_type": "markdown",
      "metadata": {},
      "source": [
        "The first step is to get our machine learning dataset:"
      ]
    },
    {
      "cell_type": "code",
      "execution_count": 3,
      "metadata": {},
      "outputs": [
        {
          "name": "stdout",
          "output_type": "stream",
          "text": [
            "CPU times: user 21.3 ms, sys: 2.56 ms, total: 23.9 ms\n",
            "Wall time: 67.9 ms\n",
            "Base data has 932 rows and 23 columns\n"
          ]
        },
        {
          "data": {
            "text/html": [
              "\n",
              "            <button style=\"display:none\" \n",
              "            class=\"btn btn-default ipython-export-btn\" \n",
              "            id=\"btn-df-1b36dbf6-f21b-4069-ba24-28c4dfbcd10a\" \n",
              "            onclick=\"_export_df('1b36dbf6-f21b-4069-ba24-28c4dfbcd10a')\">\n",
              "                Export dataframe\n",
              "            </button>\n",
              "            \n",
              "            <script>\n",
              "                \n",
              "                function _check_export_df_possible(dfid,yes_fn,no_fn) {\n",
              "                    console.log('Checking dataframe exportability...')\n",
              "                    if(!IPython || !IPython.notebook || !IPython.notebook.kernel || !IPython.notebook.kernel) {\n",
              "                        console.log('Export is not possible (IPython kernel is not available)')\n",
              "                        if(no_fn) {\n",
              "                            no_fn();\n",
              "                        }\n",
              "                    } else {\n",
              "                        var pythonCode = 'from dataiku.notebook.export import IPythonExporter;IPythonExporter._check_export_stdout(\"'+dfid+'\")';\n",
              "                        IPython.notebook.kernel.execute(pythonCode,{iopub: {output: function(resp) {\n",
              "                            console.info(\"Exportability response\", resp);\n",
              "                            var size = /^([0-9]+)x([0-9]+)$/.exec(resp.content.data || resp.content.text)\n",
              "                            if(!size) {\n",
              "                                console.log('Export is not possible (dataframe is not in-memory anymore)')\n",
              "                                if(no_fn) {\n",
              "                                    no_fn();\n",
              "                                }\n",
              "                            } else {\n",
              "                                console.log('Export is possible')\n",
              "                                if(yes_fn) {\n",
              "                                    yes_fn(1*size[1],1*size[2]);\n",
              "                                }\n",
              "                            }\n",
              "                        }}});\n",
              "                    }\n",
              "                }\n",
              "            \n",
              "                function _export_df(dfid) {\n",
              "                    \n",
              "                    var btn = $('#btn-df-'+dfid);\n",
              "                    var btns = $('.ipython-export-btn');\n",
              "                    \n",
              "                    _check_export_df_possible(dfid,function() {\n",
              "                        \n",
              "                        window.parent.openExportModalFromIPython('Pandas dataframe',function(data) {\n",
              "                            btns.prop('disabled',true);\n",
              "                            btn.text('Exporting...');\n",
              "                            var command = 'from dataiku.notebook.export import IPythonExporter;IPythonExporter._run_export(\"'+dfid+'\",\"'+data.exportId+'\")';\n",
              "                            var callback = {iopub:{output: function(resp) {\n",
              "                                console.info(\"CB resp:\", resp);\n",
              "                                _check_export_df_possible(dfid,function(rows, cols) {\n",
              "                                    $('#btn-df-'+dfid)\n",
              "                                        .css('display','inline-block')\n",
              "                                        .text('Export this dataframe ('+rows+' rows, '+cols+' cols)')\n",
              "                                        .prop('disabled',false);\n",
              "                                },function() {\n",
              "                                    $('#btn-df-'+dfid).css('display','none');\n",
              "                                });\n",
              "                            }}};\n",
              "                            IPython.notebook.kernel.execute(command,callback,{silent:false}); // yes, silent now defaults to true. figures.\n",
              "                        });\n",
              "                    \n",
              "                    }, function(){\n",
              "                            alert('Unable to export : the Dataframe object is not loaded in memory');\n",
              "                            btn.css('display','none');\n",
              "                    });\n",
              "                    \n",
              "                }\n",
              "                \n",
              "                (function(dfid) {\n",
              "                \n",
              "                    var retryCount = 10;\n",
              "                \n",
              "                    function is_valid_websock(s) {\n",
              "                        return s && s.readyState==1;\n",
              "                    }\n",
              "                \n",
              "                    function check_conn() {\n",
              "                        \n",
              "                        if(!IPython || !IPython.notebook) {\n",
              "                            // Don't even try to go further\n",
              "                            return;\n",
              "                        }\n",
              "                        \n",
              "                        // Check if IPython is ready\n",
              "                        console.info(\"Checking conn ...\")\n",
              "                        if(IPython.notebook.kernel\n",
              "                        && IPython.notebook.kernel\n",
              "                        && is_valid_websock(IPython.notebook.kernel.ws)\n",
              "                        ) {\n",
              "                            \n",
              "                            _check_export_df_possible(dfid,function(rows, cols) {\n",
              "                                $('#btn-df-'+dfid).css('display','inline-block');\n",
              "                                $('#btn-df-'+dfid).text('Export this dataframe ('+rows+' rows, '+cols+' cols)');\n",
              "                            });\n",
              "                            \n",
              "                        } else {\n",
              "                            console.info(\"Conditions are not ok\", IPython.notebook.kernel);\n",
              "                            \n",
              "                            // Retry later\n",
              "                            \n",
              "                            if(retryCount>0) {\n",
              "                                setTimeout(check_conn,500);\n",
              "                                retryCount--;\n",
              "                            }\n",
              "                            \n",
              "                        }\n",
              "                    };\n",
              "                    \n",
              "                    setTimeout(check_conn,100);\n",
              "                    \n",
              "                })(\"1b36dbf6-f21b-4069-ba24-28c4dfbcd10a\");\n",
              "                \n",
              "            </script>\n",
              "            \n",
              "        <div>\n",
              "<style scoped>\n",
              "    .dataframe tbody tr th:only-of-type {\n",
              "        vertical-align: middle;\n",
              "    }\n",
              "\n",
              "    .dataframe tbody tr th {\n",
              "        vertical-align: top;\n",
              "    }\n",
              "\n",
              "    .dataframe thead th {\n",
              "        text-align: right;\n",
              "    }\n",
              "</style>\n",
              "<table border=\"1\" class=\"dataframe\">\n",
              "  <thead>\n",
              "    <tr style=\"text-align: right;\">\n",
              "      <th></th>\n",
              "      <th>Tree ID</th>\n",
              "      <th>Longitude</th>\n",
              "      <th>Latitude</th>\n",
              "      <th>Common Name</th>\n",
              "      <th>Condition Class / Infestation Pattern</th>\n",
              "      <th>List of Trees on  residential property</th>\n",
              "      <th>BTM positive trees self reported  on residential property</th>\n",
              "      <th>Number of BTM positive Tree Species on property</th>\n",
              "      <th>Dbh 1. inches</th>\n",
              "      <th>Dbh 2</th>\n",
              "      <th>Dbh 3</th>\n",
              "      <th>Dbh 4</th>\n",
              "      <th>Dbh 5</th>\n",
              "      <th>Dbh 6</th>\n",
              "      <th>Number Observed BTM Nests</th>\n",
              "      <th>Entry Source</th>\n",
              "      <th>BTM (Y/N)</th>\n",
              "      <th>Interest in Help</th>\n",
              "      <th>Tree Type (Ornamental | Fruiting / Flowering | Bush)</th>\n",
              "      <th>Distance to Water (feet)</th>\n",
              "      <th>Proposed Treatment Type (Insert/Injection; Manual Removal; Organic Spray)</th>\n",
              "      <th>Treatm.  Priority (1: High, 2: Med, 3: Low)</th>\n",
              "      <th>Geopoint</th>\n",
              "    </tr>\n",
              "  </thead>\n",
              "  <tbody>\n",
              "    <tr>\n",
              "      <th>0</th>\n",
              "      <td>130.0</td>\n",
              "      <td>-69.633445</td>\n",
              "      <td>44.551271</td>\n",
              "      <td>Crabapple</td>\n",
              "      <td>Good</td>\n",
              "      <td>NaN</td>\n",
              "      <td>NaN</td>\n",
              "      <td>NaN</td>\n",
              "      <td>10</td>\n",
              "      <td>0</td>\n",
              "      <td>0</td>\n",
              "      <td>0</td>\n",
              "      <td>0</td>\n",
              "      <td>0</td>\n",
              "      <td>75</td>\n",
              "      <td>Bartlett Invent Feb 2022</td>\n",
              "      <td>Y</td>\n",
              "      <td>NaN</td>\n",
              "      <td>NaN</td>\n",
              "      <td>NaN</td>\n",
              "      <td>Organic Spray</td>\n",
              "      <td>1</td>\n",
              "      <td>POINT(-69.633445106 44.551270843)</td>\n",
              "    </tr>\n",
              "    <tr>\n",
              "      <th>1</th>\n",
              "      <td>101.0</td>\n",
              "      <td>-69.629734</td>\n",
              "      <td>44.549535</td>\n",
              "      <td>Crabapple</td>\n",
              "      <td>Fair</td>\n",
              "      <td>NaN</td>\n",
              "      <td>NaN</td>\n",
              "      <td>NaN</td>\n",
              "      <td>21</td>\n",
              "      <td>0</td>\n",
              "      <td>0</td>\n",
              "      <td>0</td>\n",
              "      <td>0</td>\n",
              "      <td>0</td>\n",
              "      <td>50</td>\n",
              "      <td>Bartlett Invent Feb 2022</td>\n",
              "      <td>Y</td>\n",
              "      <td>NaN</td>\n",
              "      <td>NaN</td>\n",
              "      <td>NaN</td>\n",
              "      <td>Organic Spray</td>\n",
              "      <td>1</td>\n",
              "      <td>POINT(-69.629734075 44.549535104)</td>\n",
              "    </tr>\n",
              "    <tr>\n",
              "      <th>2</th>\n",
              "      <td>59.0</td>\n",
              "      <td>-69.627131</td>\n",
              "      <td>44.551959</td>\n",
              "      <td>Elm-American</td>\n",
              "      <td>Good</td>\n",
              "      <td>NaN</td>\n",
              "      <td>NaN</td>\n",
              "      <td>NaN</td>\n",
              "      <td>4</td>\n",
              "      <td>0</td>\n",
              "      <td>0</td>\n",
              "      <td>0</td>\n",
              "      <td>0</td>\n",
              "      <td>0</td>\n",
              "      <td>50</td>\n",
              "      <td>Bartlett Invent Feb 2022</td>\n",
              "      <td>Y</td>\n",
              "      <td>NaN</td>\n",
              "      <td>NaN</td>\n",
              "      <td>NaN</td>\n",
              "      <td>Insert/Injection</td>\n",
              "      <td>1</td>\n",
              "      <td>POINT(-69.627130501 44.551959107)</td>\n",
              "    </tr>\n",
              "    <tr>\n",
              "      <th>3</th>\n",
              "      <td>105.0</td>\n",
              "      <td>-69.629361</td>\n",
              "      <td>44.549576</td>\n",
              "      <td>Elm-American</td>\n",
              "      <td>Good</td>\n",
              "      <td>NaN</td>\n",
              "      <td>NaN</td>\n",
              "      <td>NaN</td>\n",
              "      <td>42</td>\n",
              "      <td>0</td>\n",
              "      <td>0</td>\n",
              "      <td>0</td>\n",
              "      <td>0</td>\n",
              "      <td>0</td>\n",
              "      <td>50</td>\n",
              "      <td>Bartlett Invent Feb 2022</td>\n",
              "      <td>Y</td>\n",
              "      <td>NaN</td>\n",
              "      <td>NaN</td>\n",
              "      <td>NaN</td>\n",
              "      <td>Insert/Injection</td>\n",
              "      <td>1</td>\n",
              "      <td>POINT(-69.629360613 44.549576086)</td>\n",
              "    </tr>\n",
              "    <tr>\n",
              "      <th>4</th>\n",
              "      <td>353.0</td>\n",
              "      <td>-69.662301</td>\n",
              "      <td>44.528730</td>\n",
              "      <td>Oak-Northern Red</td>\n",
              "      <td>Good</td>\n",
              "      <td>NaN</td>\n",
              "      <td>NaN</td>\n",
              "      <td>NaN</td>\n",
              "      <td>24</td>\n",
              "      <td>0</td>\n",
              "      <td>0</td>\n",
              "      <td>0</td>\n",
              "      <td>0</td>\n",
              "      <td>0</td>\n",
              "      <td>50</td>\n",
              "      <td>Bartlett Invent Feb 2022</td>\n",
              "      <td>Y</td>\n",
              "      <td>NaN</td>\n",
              "      <td>NaN</td>\n",
              "      <td>NaN</td>\n",
              "      <td>Insert/Injection</td>\n",
              "      <td>1</td>\n",
              "      <td>POINT(-69.662300718 44.528730089)</td>\n",
              "    </tr>\n",
              "  </tbody>\n",
              "</table>\n",
              "</div>"
            ],
            "text/plain": [
              "   Tree ID  Longitude   Latitude       Common Name Condition Class / Infestation Pattern List of Trees on  residential property BTM positive trees self reported  on residential property  Number of BTM positive Tree Species on property  Dbh 1. inches  Dbh 2  Dbh 3  Dbh 4  Dbh 5  Dbh 6  Number Observed BTM Nests              Entry Source BTM (Y/N) Interest in Help  Tree Type (Ornamental | Fruiting / Flowering | Bush)  Distance to Water (feet) Proposed Treatment Type (Insert/Injection; Manual Removal; Organic Spray)  Treatm.  Priority (1: High, 2: Med, 3: Low)                           Geopoint\n",
              "0    130.0 -69.633445  44.551271         Crabapple                                  Good                                    NaN                                                NaN                                                     NaN             10      0      0      0      0      0                         75  Bartlett Invent Feb 2022         Y              NaN                                                NaN                          NaN                                      Organic Spray                                                                   1  POINT(-69.633445106 44.551270843)\n",
              "1    101.0 -69.629734  44.549535         Crabapple                                  Fair                                    NaN                                                NaN                                                     NaN             21      0      0      0      0      0                         50  Bartlett Invent Feb 2022         Y              NaN                                                NaN                          NaN                                      Organic Spray                                                                   1  POINT(-69.629734075 44.549535104)\n",
              "2     59.0 -69.627131  44.551959      Elm-American                                  Good                                    NaN                                                NaN                                                     NaN              4      0      0      0      0      0                         50  Bartlett Invent Feb 2022         Y              NaN                                                NaN                          NaN                                   Insert/Injection                                                                   1  POINT(-69.627130501 44.551959107)\n",
              "3    105.0 -69.629361  44.549576      Elm-American                                  Good                                    NaN                                                NaN                                                     NaN             42      0      0      0      0      0                         50  Bartlett Invent Feb 2022         Y              NaN                                                NaN                          NaN                                   Insert/Injection                                                                   1  POINT(-69.629360613 44.549576086)\n",
              "4    353.0 -69.662301  44.528730  Oak-Northern Red                                  Good                                    NaN                                                NaN                                                     NaN             24      0      0      0      0      0                         50  Bartlett Invent Feb 2022         Y              NaN                                                NaN                          NaN                                   Insert/Injection                                                                   1  POINT(-69.662300718 44.528730089)"
            ]
          },
          "execution_count": 3,
          "metadata": {},
          "output_type": "execute_result"
        }
      ],
      "source": [
        "# We apply the preparation that you defined. You should not modify this.\n",
        "preparation_steps = []\n",
        "preparation_output_schema = {'columns': [{'name': 'Tree ID', 'type': 'string'}, {'name': 'Longitude', 'type': 'double'}, {'name': 'Latitude', 'type': 'double'}, {'name': 'Common Name', 'type': 'string'}, {'name': 'Condition Class / Infestation Pattern', 'type': 'string'}, {'name': 'List of Trees on  residential property', 'type': 'string'}, {'name': 'BTM positive trees self reported  on residential property', 'type': 'string'}, {'name': 'Number of BTM positive Tree Species on property', 'type': 'bigint'}, {'name': 'Dbh 1. inches', 'type': 'bigint'}, {'name': 'Dbh 2', 'type': 'bigint'}, {'name': 'Dbh 3', 'type': 'bigint'}, {'name': 'Dbh 4', 'type': 'bigint'}, {'name': 'Dbh 5', 'type': 'bigint'}, {'name': 'Dbh 6', 'type': 'bigint'}, {'name': 'Number Observed BTM Nests', 'type': 'bigint'}, {'name': 'Entry Source', 'type': 'string'}, {'name': 'BTM (Y/N)', 'type': 'boolean'}, {'name': 'Interest in Help', 'type': 'string'}, {'name': 'Tree Type (Ornamental | Fruiting / Flowering | Bush)', 'type': 'string'}, {'name': 'Distance to Water (feet)', 'type': 'string'}, {'name': 'Proposed Treatment Type (Insert/Injection; Manual Removal; Organic Spray)', 'type': 'string'}, {'name': 'Treatm.  Priority (1: High, 2: Med, 3: Low)', 'type': 'bigint'}, {'name': 'Geopoint', 'type': 'string'}], 'userModified': False}\n",
        "\n",
        "ml_dataset_handle = dataiku.Dataset('BTM_data_prepared')\n",
        "ml_dataset_handle.set_preparation_steps(preparation_steps, preparation_output_schema)\n",
        "%time ml_dataset = ml_dataset_handle.get_dataframe(limit = 100000)\n",
        "\n",
        "print ('Base data has %i rows and %i columns' % (ml_dataset.shape[0], ml_dataset.shape[1]))\n",
        "# Five first records\",\n",
        "ml_dataset.head(5)"
      ]
    },
    {
      "cell_type": "markdown",
      "metadata": {},
      "source": [
        "#### Initial data management"
      ]
    },
    {
      "cell_type": "markdown",
      "metadata": {},
      "source": [
        "The preprocessing aims at making the dataset compatible with modeling.\n",
        "At the end of this step, we will have a matrix of float numbers, with no missing values.\n",
        "We'll use the features and the preprocessing steps defined in Models.\n",
        "\n",
        "Let's only keep selected features"
      ]
    },
    {
      "cell_type": "code",
      "execution_count": 4,
      "metadata": {},
      "outputs": [],
      "source": [
        "ml_dataset = ml_dataset[['Number Observed BTM Nests', 'Dbh 1. inches', 'Common Name', 'Latitude', 'BTM (Y/N)', 'Longitude', 'Distance to Water (feet)', 'List of Trees on  residential property', 'Condition Class / Infestation Pattern', 'Tree Type (Ornamental | Fruiting / Flowering | Bush)', 'Proposed Treatment Type (Insert/Injection; Manual Removal; Organic Spray)']]"
      ]
    },
    {
      "cell_type": "markdown",
      "metadata": {},
      "source": [
        "Let's first coerce categorical columns into unicode, numerical features into floats."
      ]
    },
    {
      "cell_type": "code",
      "execution_count": 5,
      "metadata": {},
      "outputs": [],
      "source": [
        "# astype('unicode') does not work as expected\n",
        "\n",
        "def coerce_to_unicode(x):\n",
        "    if sys.version_info < (3, 0):\n",
        "        if isinstance(x, str):\n",
        "            return unicode(x,'utf-8')\n",
        "        else:\n",
        "            return unicode(x)\n",
        "    else:\n",
        "        return str(x)\n",
        "\n",
        "\n",
        "categorical_features = ['Common Name', 'BTM (Y/N)', 'Distance to Water (feet)', 'List of Trees on  residential property', 'Condition Class / Infestation Pattern', 'Tree Type (Ornamental | Fruiting / Flowering | Bush)']\n",
        "numerical_features = ['Number Observed BTM Nests', 'Dbh 1. inches', 'Latitude', 'Longitude']\n",
        "text_features = []\n",
        "from dataiku.doctor.utils import datetime_to_epoch\n",
        "for feature in categorical_features:\n",
        "    ml_dataset[feature] = ml_dataset[feature].apply(coerce_to_unicode)\n",
        "for feature in text_features:\n",
        "    ml_dataset[feature] = ml_dataset[feature].apply(coerce_to_unicode)\n",
        "for feature in numerical_features:\n",
        "    if ml_dataset[feature].dtype == np.dtype('M8[ns]') or (hasattr(ml_dataset[feature].dtype, 'base') and ml_dataset[feature].dtype.base == np.dtype('M8[ns]')):\n",
        "        ml_dataset[feature] = datetime_to_epoch(ml_dataset[feature])\n",
        "    else:\n",
        "        ml_dataset[feature] = ml_dataset[feature].astype('double')"
      ]
    },
    {
      "cell_type": "markdown",
      "metadata": {},
      "source": [
        "We are now going to handle the target variable and store it in a new variable:"
      ]
    },
    {
      "cell_type": "code",
      "execution_count": 6,
      "metadata": {},
      "outputs": [],
      "source": [
        "target_map = {'Insert/Injection': 0, 'None': 1, 'Other': 2, 'Organic Spray': 3, 'Manual Removal': 4}\n",
        "ml_dataset['__target__'] = ml_dataset['Proposed Treatment Type (Insert/Injection; Manual Removal; Organic Spray)'].map(str).map(target_map)\n",
        "del ml_dataset['Proposed Treatment Type (Insert/Injection; Manual Removal; Organic Spray)']\n",
        "\n",
        "\n",
        "# Remove rows for which the target is unknown.\n",
        "ml_dataset = ml_dataset[~ml_dataset['__target__'].isnull()]\n",
        "\n",
        "ml_dataset['__target__'] = ml_dataset['__target__'].astype(np.int64)"
      ]
    },
    {
      "cell_type": "markdown",
      "metadata": {},
      "source": [
        "#### Cross-validation strategy"
      ]
    },
    {
      "cell_type": "markdown",
      "metadata": {},
      "source": [
        "The dataset needs to be split into 2 new sets, one that will be used for training the model (train set)\n",
        "and another that will be used to test its generalization capability (test set)"
      ]
    },
    {
      "cell_type": "markdown",
      "metadata": {},
      "source": [
        "This is a simple cross-validation strategy."
      ]
    },
    {
      "cell_type": "code",
      "execution_count": 7,
      "metadata": {},
      "outputs": [
        {
          "name": "stdout",
          "output_type": "stream",
          "text": [
            "Train data has 745 rows and 11 columns\n",
            "Test data has 187 rows and 11 columns\n"
          ]
        }
      ],
      "source": [
        "train, test = pdu.split_train_valid(ml_dataset, prop=0.8)\n",
        "print ('Train data has %i rows and %i columns' % (train.shape[0], train.shape[1]))\n",
        "print ('Test data has %i rows and %i columns' % (test.shape[0], test.shape[1]))"
      ]
    },
    {
      "cell_type": "markdown",
      "metadata": {},
      "source": [
        "#### Features preprocessing"
      ]
    },
    {
      "cell_type": "markdown",
      "metadata": {},
      "source": [
        "The first thing to do at the features level is to handle the missing values.\n",
        "Let's reuse the settings defined in the model"
      ]
    },
    {
      "cell_type": "code",
      "execution_count": 8,
      "metadata": {},
      "outputs": [
        {
          "name": "stdout",
          "output_type": "stream",
          "text": [
            "Imputed missing values in feature Number Observed BTM Nests with value 4.135570469798657\n",
            "Imputed missing values in feature Dbh 1. inches with value 6.990604026845638\n",
            "Imputed missing values in feature Latitude with value 44.55075008976781\n",
            "Imputed missing values in feature Longitude with value -69.64718687628054\n"
          ]
        },
        {
          "name": "stderr",
          "output_type": "stream",
          "text": [
            "/opt/dss/dataiku-dss-10.0.5/python36.packages/ipykernel_launcher.py:23: SettingWithCopyWarning: \n",
            "A value is trying to be set on a copy of a slice from a DataFrame.\n",
            "Try using .loc[row_indexer,col_indexer] = value instead\n",
            "\n",
            "See the caveats in the documentation: http://pandas.pydata.org/pandas-docs/stable/indexing.html#indexing-view-versus-copy\n"
          ]
        }
      ],
      "source": [
        "drop_rows_when_missing = []\n",
        "impute_when_missing = [{'feature': 'Number Observed BTM Nests', 'impute_with': 'MEAN'}, {'feature': 'Dbh 1. inches', 'impute_with': 'MEAN'}, {'feature': 'Latitude', 'impute_with': 'MEAN'}, {'feature': 'Longitude', 'impute_with': 'MEAN'}]\n",
        "\n",
        "# Features for which we drop rows with missing values\"\n",
        "for feature in drop_rows_when_missing:\n",
        "    train = train[train[feature].notnull()]\n",
        "    test = test[test[feature].notnull()]\n",
        "    print ('Dropped missing records in %s' % feature)\n",
        "\n",
        "# Features for which we impute missing values\"\n",
        "for feature in impute_when_missing:\n",
        "    if feature['impute_with'] == 'MEAN':\n",
        "        v = train[feature['feature']].mean()\n",
        "    elif feature['impute_with'] == 'MEDIAN':\n",
        "        v = train[feature['feature']].median()\n",
        "    elif feature['impute_with'] == 'CREATE_CATEGORY':\n",
        "        v = 'NULL_CATEGORY'\n",
        "    elif feature['impute_with'] == 'MODE':\n",
        "        v = train[feature['feature']].value_counts().index[0]\n",
        "    elif feature['impute_with'] == 'CONSTANT':\n",
        "        v = feature['value']\n",
        "    train[feature['feature']] = train[feature['feature']].fillna(v)\n",
        "    test[feature['feature']] = test[feature['feature']].fillna(v)\n",
        "    print ('Imputed missing values in feature %s with value %s' % (feature['feature'], coerce_to_unicode(v)))"
      ]
    },
    {
      "cell_type": "markdown",
      "metadata": {},
      "source": [
        "We can now handle the categorical features (still using the settings defined in Models):"
      ]
    },
    {
      "cell_type": "markdown",
      "metadata": {},
      "source": [
        "Let's dummy-encode the following features.\n",
        "A binary column is created for each of the 100 most frequent values."
      ]
    },
    {
      "cell_type": "code",
      "execution_count": 9,
      "metadata": {},
      "outputs": [
        {
          "name": "stdout",
          "output_type": "stream",
          "text": [
            "Dummy-encoded feature Common Name\n",
            "Dummy-encoded feature BTM (Y/N)\n",
            "Dummy-encoded feature Distance to Water (feet)\n"
          ]
        },
        {
          "name": "stderr",
          "output_type": "stream",
          "text": [
            "/opt/dss/dataiku-dss-10.0.5/python36.packages/ipykernel_launcher.py:22: SettingWithCopyWarning: \n",
            "A value is trying to be set on a copy of a slice from a DataFrame.\n",
            "Try using .loc[row_indexer,col_indexer] = value instead\n",
            "\n",
            "See the caveats in the documentation: http://pandas.pydata.org/pandas-docs/stable/indexing.html#indexing-view-versus-copy\n"
          ]
        },
        {
          "name": "stdout",
          "output_type": "stream",
          "text": [
            "Dummy-encoded feature List of Trees on  residential property\n",
            "Dummy-encoded feature Condition Class / Infestation Pattern\n",
            "Dummy-encoded feature Tree Type (Ornamental | Fruiting / Flowering | Bush)\n",
            "Dummy-encoded feature Common Name\n",
            "Dummy-encoded feature BTM (Y/N)\n",
            "Dummy-encoded feature Distance to Water (feet)\n",
            "Dummy-encoded feature List of Trees on  residential property\n",
            "Dummy-encoded feature Condition Class / Infestation Pattern\n",
            "Dummy-encoded feature Tree Type (Ornamental | Fruiting / Flowering | Bush)\n"
          ]
        }
      ],
      "source": [
        "LIMIT_DUMMIES = 100\n",
        "\n",
        "categorical_to_dummy_encode = ['Common Name', 'BTM (Y/N)', 'Distance to Water (feet)', 'List of Trees on  residential property', 'Condition Class / Infestation Pattern', 'Tree Type (Ornamental | Fruiting / Flowering | Bush)']\n",
        "\n",
        "# Only keep the top 100 values\n",
        "def select_dummy_values(train, features):\n",
        "    dummy_values = {}\n",
        "    for feature in categorical_to_dummy_encode:\n",
        "        values = [\n",
        "            value\n",
        "            for (value, _) in Counter(train[feature]).most_common(LIMIT_DUMMIES)\n",
        "        ]\n",
        "        dummy_values[feature] = values\n",
        "    return dummy_values\n",
        "\n",
        "DUMMY_VALUES = select_dummy_values(train, categorical_to_dummy_encode)\n",
        "\n",
        "def dummy_encode_dataframe(df):\n",
        "    for (feature, dummy_values) in DUMMY_VALUES.items():\n",
        "        for dummy_value in dummy_values:\n",
        "            dummy_name = u'%s_value_%s' % (feature, coerce_to_unicode(dummy_value))\n",
        "            df[dummy_name] = (df[feature] == dummy_value).astype(float)\n",
        "        del df[feature]\n",
        "        print ('Dummy-encoded feature %s' % feature)\n",
        "\n",
        "dummy_encode_dataframe(train)\n",
        "\n",
        "dummy_encode_dataframe(test)"
      ]
    },
    {
      "cell_type": "markdown",
      "metadata": {},
      "source": [
        "Let's rescale numerical features"
      ]
    },
    {
      "cell_type": "code",
      "execution_count": 10,
      "metadata": {},
      "outputs": [
        {
          "name": "stdout",
          "output_type": "stream",
          "text": [
            "Rescaled Number Observed BTM Nests\n",
            "Rescaled Dbh 1. inches\n",
            "Rescaled Latitude\n",
            "Rescaled Longitude\n"
          ]
        },
        {
          "name": "stderr",
          "output_type": "stream",
          "text": [
            "/opt/dss/dataiku-dss-10.0.5/python36.packages/ipykernel_launcher.py:18: SettingWithCopyWarning: \n",
            "A value is trying to be set on a copy of a slice from a DataFrame.\n",
            "Try using .loc[row_indexer,col_indexer] = value instead\n",
            "\n",
            "See the caveats in the documentation: http://pandas.pydata.org/pandas-docs/stable/indexing.html#indexing-view-versus-copy\n"
          ]
        }
      ],
      "source": [
        "rescale_features = {'Number Observed BTM Nests': 'AVGSTD', 'Dbh 1. inches': 'AVGSTD', 'Latitude': 'AVGSTD', 'Longitude': 'AVGSTD'}\n",
        "for (feature_name, rescale_method) in rescale_features.items():\n",
        "    if rescale_method == 'MINMAX':\n",
        "        _min = train[feature_name].min()\n",
        "        _max = train[feature_name].max()\n",
        "        scale = _max - _min\n",
        "        shift = _min\n",
        "    else:\n",
        "        shift = train[feature_name].mean()\n",
        "        scale = train[feature_name].std()\n",
        "    if scale == 0.:\n",
        "        del train[feature_name]\n",
        "        del test[feature_name]\n",
        "        print ('Feature %s was dropped because it has no variance' % feature_name)\n",
        "    else:\n",
        "        print ('Rescaled %s' % feature_name)\n",
        "        train[feature_name] = (train[feature_name] - shift).astype(np.float64) / scale\n",
        "        test[feature_name] = (test[feature_name] - shift).astype(np.float64) / scale"
      ]
    },
    {
      "cell_type": "markdown",
      "metadata": {},
      "source": [
        "#### Modeling"
      ]
    },
    {
      "cell_type": "markdown",
      "metadata": {},
      "source": [
        "Before actually creating our model, we need to split the datasets into their features and labels parts:"
      ]
    },
    {
      "cell_type": "code",
      "execution_count": 11,
      "metadata": {},
      "outputs": [],
      "source": [
        "X_train = train.drop('__target__', axis=1)\n",
        "X_test = test.drop('__target__', axis=1)\n",
        "\n",
        "y_train = np.array(train['__target__'])\n",
        "y_test = np.array(test['__target__'])"
      ]
    },
    {
      "cell_type": "markdown",
      "metadata": {},
      "source": [
        "Now we can finally create our model!"
      ]
    },
    {
      "cell_type": "code",
      "execution_count": 12,
      "metadata": {},
      "outputs": [],
      "source": [
        "from sklearn.linear_model import LogisticRegression\n",
        "clf = LogisticRegression(penalty=\"l2\",random_state=1337)"
      ]
    },
    {
      "cell_type": "markdown",
      "metadata": {},
      "source": [
        "We set \"class_weight\" as the weighting strategy:"
      ]
    },
    {
      "cell_type": "code",
      "execution_count": 13,
      "metadata": {},
      "outputs": [],
      "source": [
        "clf.class_weight = \"balanced\""
      ]
    },
    {
      "cell_type": "markdown",
      "metadata": {},
      "source": [
        "... And train the model"
      ]
    },
    {
      "cell_type": "code",
      "execution_count": 14,
      "metadata": {},
      "outputs": [
        {
          "name": "stdout",
          "output_type": "stream",
          "text": [
            "CPU times: user 29.1 ms, sys: 4.01 ms, total: 33.1 ms\n",
            "Wall time: 31.1 ms\n"
          ]
        },
        {
          "name": "stderr",
          "output_type": "stream",
          "text": [
            "/opt/dss/dataiku-dss-10.0.5/python36.packages/sklearn/linear_model/logistic.py:433: FutureWarning: Default solver will be changed to 'lbfgs' in 0.22. Specify a solver to silence this warning.\n",
            "  FutureWarning)\n",
            "/opt/dss/dataiku-dss-10.0.5/python36.packages/sklearn/linear_model/logistic.py:460: FutureWarning: Default multi_class will be changed to 'auto' in 0.22. Specify the multi_class option to silence this warning.\n",
            "  \"this warning.\", FutureWarning)\n"
          ]
        },
        {
          "data": {
            "text/plain": [
              "LogisticRegression(C=1.0, class_weight='balanced', dual=False,\n",
              "          fit_intercept=True, intercept_scaling=1, max_iter=100,\n",
              "          multi_class='warn', n_jobs=None, penalty='l2', random_state=1337,\n",
              "          solver='warn', tol=0.0001, verbose=0, warm_start=False)"
            ]
          },
          "execution_count": 14,
          "metadata": {},
          "output_type": "execute_result"
        }
      ],
      "source": [
        "%time clf.fit(X_train, y_train)"
      ]
    },
    {
      "cell_type": "markdown",
      "metadata": {},
      "source": [
        "Build up our result dataset"
      ]
    },
    {
      "cell_type": "markdown",
      "metadata": {},
      "source": [
        "The model is now trained, we can apply it to our test set:"
      ]
    },
    {
      "cell_type": "code",
      "execution_count": 15,
      "metadata": {},
      "outputs": [
        {
          "name": "stdout",
          "output_type": "stream",
          "text": [
            "CPU times: user 2.29 ms, sys: 460 µs, total: 2.75 ms\n",
            "Wall time: 1.86 ms\n",
            "CPU times: user 2.51 ms, sys: 0 ns, total: 2.51 ms\n",
            "Wall time: 1.71 ms\n"
          ]
        }
      ],
      "source": [
        "%time _predictions = clf.predict(X_test)\n",
        "%time _probas = clf.predict_proba(X_test)\n",
        "predictions = pd.Series(data=_predictions, index=X_test.index, name='predicted_value')\n",
        "cols = [\n",
        "    u'probability_of_value_%s' % label\n",
        "    for (_, label) in sorted([(int(target_map[label]), label) for label in target_map])\n",
        "]\n",
        "probabilities = pd.DataFrame(data=_probas, index=X_test.index, columns=cols)\n",
        "\n",
        "# Build scored dataset\n",
        "results_test = X_test.join(predictions, how='left')\n",
        "results_test = results_test.join(probabilities, how='left')\n",
        "results_test = results_test.join(test['__target__'], how='left')\n",
        "results_test = results_test.rename(columns= {'__target__': 'Proposed Treatment Type (Insert/Injection; Manual Removal; Organic Spray)'})"
      ]
    },
    {
      "cell_type": "markdown",
      "metadata": {},
      "source": [
        "#### Results"
      ]
    },
    {
      "cell_type": "markdown",
      "metadata": {},
      "source": [
        "You can measure the model's accuracy:"
      ]
    },
    {
      "cell_type": "code",
      "execution_count": 16,
      "metadata": {},
      "outputs": [
        {
          "name": "stdout",
          "output_type": "stream",
          "text": [
            "AUC value: 0.9844396344396344\n"
          ]
        }
      ],
      "source": [
        "from dataiku.doctor.utils.metrics import mroc_auc_score\n",
        "y_test_ser = pd.Series(y_test)\n",
        " \n",
        "print ('AUC value:', mroc_auc_score(y_test_ser, _probas))"
      ]
    },
    {
      "cell_type": "markdown",
      "metadata": {},
      "source": [
        "We can also view the predictions directly.\n",
        "Since scikit-learn only predicts numericals, the labels have been mapped to 0,1,2 ...\n",
        "We need to 'reverse' the mapping to display the initial labels."
      ]
    },
    {
      "cell_type": "code",
      "execution_count": 17,
      "metadata": {},
      "outputs": [
        {
          "data": {
            "text/plain": [
              "11     Insert/Injection\n",
              "13     Insert/Injection\n",
              "25     Insert/Injection\n",
              "33       Manual Removal\n",
              "34        Organic Spray\n",
              "37     Insert/Injection\n",
              "39     Insert/Injection\n",
              "40     Insert/Injection\n",
              "43     Insert/Injection\n",
              "46     Insert/Injection\n",
              "58     Insert/Injection\n",
              "61     Insert/Injection\n",
              "62     Insert/Injection\n",
              "63     Insert/Injection\n",
              "70     Insert/Injection\n",
              "75        Organic Spray\n",
              "79     Insert/Injection\n",
              "82     Insert/Injection\n",
              "107    Insert/Injection\n",
              "108      Manual Removal\n",
              "110    Insert/Injection\n",
              "118    Insert/Injection\n",
              "121    Insert/Injection\n",
              "126    Insert/Injection\n",
              "130    Insert/Injection\n",
              "133    Insert/Injection\n",
              "135    Insert/Injection\n",
              "142       Organic Spray\n",
              "145    Insert/Injection\n",
              "147    Insert/Injection\n",
              "151    Insert/Injection\n",
              "154      Manual Removal\n",
              "155      Manual Removal\n",
              "159    Insert/Injection\n",
              "160    Insert/Injection\n",
              "167    Insert/Injection\n",
              "171    Insert/Injection\n",
              "176       Organic Spray\n",
              "204       Organic Spray\n",
              "210    Insert/Injection\n",
              "211    Insert/Injection\n",
              "214    Insert/Injection\n",
              "215    Insert/Injection\n",
              "218    Insert/Injection\n",
              "223    Insert/Injection\n",
              "224    Insert/Injection\n",
              "227    Insert/Injection\n",
              "230    Insert/Injection\n",
              "231    Insert/Injection\n",
              "233    Insert/Injection\n",
              "239       Organic Spray\n",
              "242       Organic Spray\n",
              "251    Insert/Injection\n",
              "256    Insert/Injection\n",
              "259    Insert/Injection\n",
              "261    Insert/Injection\n",
              "266                None\n",
              "274                None\n",
              "279                None\n",
              "280                None\n",
              "281                None\n",
              "282                None\n",
              "284                None\n",
              "286                None\n",
              "294                None\n",
              "301                None\n",
              "303                None\n",
              "309                None\n",
              "322                None\n",
              "325                None\n",
              "334                None\n",
              "337                None\n",
              "340                None\n",
              "345                None\n",
              "364                None\n",
              "387                None\n",
              "390                None\n",
              "392                None\n",
              "397                None\n",
              "400                None\n",
              "407                None\n",
              "415                None\n",
              "420                None\n",
              "421                None\n",
              "428                None\n",
              "433                None\n",
              "435                None\n",
              "438                None\n",
              "440                None\n",
              "442                None\n",
              "447                None\n",
              "456                None\n",
              "460                None\n",
              "462                None\n",
              "463                None\n",
              "465                None\n",
              "468                None\n",
              "471                None\n",
              "473                None\n",
              "474                None\n",
              "481                None\n",
              "483                None\n",
              "484                None\n",
              "486                None\n",
              "497                None\n",
              "499                None\n",
              "508                None\n",
              "510                None\n",
              "511                None\n",
              "519                None\n",
              "520                None\n",
              "521                None\n",
              "525                None\n",
              "532                None\n",
              "542                None\n",
              "543                None\n",
              "545                None\n",
              "553                None\n",
              "556                None\n",
              "558                None\n",
              "561                None\n",
              "566                None\n",
              "568                None\n",
              "582                None\n",
              "585                None\n",
              "586                None\n",
              "592                None\n",
              "594                None\n",
              "606    Insert/Injection\n",
              "612    Insert/Injection\n",
              "613    Insert/Injection\n",
              "616    Insert/Injection\n",
              "621    Insert/Injection\n",
              "625               Other\n",
              "643               Other\n",
              "649    Insert/Injection\n",
              "651    Insert/Injection\n",
              "655               Other\n",
              "657    Insert/Injection\n",
              "668      Manual Removal\n",
              "672    Insert/Injection\n",
              "680    Insert/Injection\n",
              "691               Other\n",
              "692    Insert/Injection\n",
              "699    Insert/Injection\n",
              "703               Other\n",
              "706    Insert/Injection\n",
              "712               Other\n",
              "717    Insert/Injection\n",
              "719    Insert/Injection\n",
              "744               Other\n",
              "745    Insert/Injection\n",
              "754    Insert/Injection\n",
              "760               Other\n",
              "767               Other\n",
              "769    Insert/Injection\n",
              "775      Manual Removal\n",
              "781               Other\n",
              "792    Insert/Injection\n",
              "793    Insert/Injection\n",
              "804    Insert/Injection\n",
              "805               Other\n",
              "807               Other\n",
              "818               Other\n",
              "820               Other\n",
              "828               Other\n",
              "833               Other\n",
              "835               Other\n",
              "844               Other\n",
              "850               Other\n",
              "851               Other\n",
              "853               Other\n",
              "855               Other\n",
              "856               Other\n",
              "860               Other\n",
              "862               Other\n",
              "864               Other\n",
              "871               Other\n",
              "880               Other\n",
              "900    Insert/Injection\n",
              "902               Other\n",
              "914    Insert/Injection\n",
              "917    Insert/Injection\n",
              "918    Insert/Injection\n",
              "922    Insert/Injection\n",
              "924    Insert/Injection\n",
              "931    Insert/Injection\n",
              "Name: predicted_value, dtype: object"
            ]
          },
          "execution_count": 17,
          "metadata": {},
          "output_type": "execute_result"
        }
      ],
      "source": [
        "inv_map = { target_map[label] : label for label in target_map}\n",
        "predictions.map(inv_map)"
      ]
    },
    {
      "cell_type": "markdown",
      "metadata": {},
      "source": [
        "That's it. It's now up to you to tune your preprocessing, your algo, and your analysis !\n"
      ]
    }
  ],
  "metadata": {
    "hide_input": false,
    "kernelspec": {
      "display_name": "Python 3.10.7 64-bit",
      "language": "python",
      "name": "python3"
    },
    "language_info": {
      "codemirror_mode": {
        "name": "ipython",
        "version": 3
      },
      "file_extension": ".py",
      "mimetype": "text/x-python",
      "name": "python",
      "nbconvert_exporter": "python",
      "pygments_lexer": "ipython3",
      "version": "3.10.7"
    },
    "modifiedBy": "user9",
    "name": "Predicting Proposed Treatment Type (Insert/Injection; Manual Removal; Organic Spray) in BTM_data_prepared",
    "vscode": {
      "interpreter": {
        "hash": "aee8b7b246df8f9039afb4144a1f6fd8d2ca17a180786b69acc140d282b71a49"
      }
    }
  },
  "nbformat": 4,
  "nbformat_minor": 1
}
